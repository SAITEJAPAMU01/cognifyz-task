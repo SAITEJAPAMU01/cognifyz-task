{
 "cells": [
  {
   "cell_type": "code",
   "execution_count": 1,
   "metadata": {},
   "outputs": [
    {
     "name": "stdout",
     "output_type": "stream",
     "text": [
      "          Restaurant Name  Name Length  \\\n",
      "0        Le Petit Souffle           16   \n",
      "1        Izakaya Kikufuji           16   \n",
      "2  Heat - Edsa Shangri-La           22   \n",
      "3                    Ooma            4   \n",
      "4             Sambo Kojin           11   \n",
      "\n",
      "                                             Address  Address Length  \n",
      "0  Third Floor, Century City Mall, Kalayaan Avenu...              71  \n",
      "1  Little Tokyo, 2277 Chino Roces Avenue, Legaspi...              67  \n",
      "2  Edsa Shangri-La, 1 Garden Way, Ortigas, Mandal...              56  \n",
      "3  Third Floor, Mega Fashion Hall, SM Megamall, O...              70  \n",
      "4  Third Floor, Mega Atrium, SM Megamall, Ortigas...              64  \n"
     ]
    }
   ],
   "source": [
    "import pandas as pd\n",
    "\n",
    "\n",
    "df = pd.read_csv(r'C:\\Users\\saite\\OneDrive\\Desktop\\restaurants.csv.csv')\n",
    "\n",
    "# Extract the length of the restaurant name\n",
    "df['Name Length'] = df['Restaurant Name'].apply(len)\n",
    "\n",
    "# Extract the length of the address\n",
    "df['Address Length'] = df['Address'].apply(len)\n",
    "\n",
    "# Display the first few rows to verify the new features\n",
    "print(df[['Restaurant Name', 'Name Length', 'Address', 'Address Length']].head())\n"
   ]
  },
  {
   "cell_type": "code",
   "execution_count": 2,
   "metadata": {},
   "outputs": [
    {
     "name": "stdout",
     "output_type": "stream",
     "text": [
      "          Restaurant Name Has Table booking  Has Table Booking  \\\n",
      "0        Le Petit Souffle               Yes                  1   \n",
      "1        Izakaya Kikufuji               Yes                  1   \n",
      "2  Heat - Edsa Shangri-La               Yes                  1   \n",
      "3                    Ooma                No                  0   \n",
      "4             Sambo Kojin               Yes                  1   \n",
      "\n",
      "  Has Online delivery  Has Online Delivery  \n",
      "0                  No                    0  \n",
      "1                  No                    0  \n",
      "2                  No                    0  \n",
      "3                  No                    0  \n",
      "4                  No                    0  \n"
     ]
    }
   ],
   "source": [
    "import pandas as pd\n",
    "\n",
    "df = pd.read_csv(r'C:\\Users\\saite\\OneDrive\\Desktop\\restaurants.csv.csv')\n",
    "\n",
    "# Encode \"Has Table booking\" as binary feature\n",
    "df['Has Table Booking'] = df['Has Table booking'].apply(lambda x: 1 if x == 'Yes' else 0)\n",
    "\n",
    "# online delivery\n",
    "df['Has Online Delivery'] = df['Has Online delivery'].apply(lambda x: 1 if x == 'Yes' else 0)\n",
    "\n",
    "print(df[['Restaurant Name', 'Has Table booking', 'Has Table Booking', 'Has Online delivery', 'Has Online Delivery']].head())\n"
   ]
  }
 ],
 "metadata": {
  "kernelspec": {
   "display_name": "Python 3",
   "language": "python",
   "name": "python3"
  },
  "language_info": {
   "codemirror_mode": {
    "name": "ipython",
    "version": 3
   },
   "file_extension": ".py",
   "mimetype": "text/x-python",
   "name": "python",
   "nbconvert_exporter": "python",
   "pygments_lexer": "ipython3",
   "version": "3.11.4"
  }
 },
 "nbformat": 4,
 "nbformat_minor": 2
}
