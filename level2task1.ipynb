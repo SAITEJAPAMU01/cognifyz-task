{
 "cells": [
  {
   "cell_type": "code",
   "execution_count": 4,
   "metadata": {},
   "outputs": [
    {
     "name": "stdout",
     "output_type": "stream",
     "text": [
      "Index(['Restaurant ID', 'Restaurant Name', 'Country Code', 'City', 'Address',\n",
      "       'Locality', 'Locality Verbose', 'Longitude', 'Latitude', 'Cuisines',\n",
      "       'Average Cost for two', 'Currency', 'Has Table booking',\n",
      "       'Has Online delivery', 'Is delivering now', 'Switch to order menu',\n",
      "       'Price range', 'Aggregate rating', 'Rating color', 'Rating text',\n",
      "       'Votes'],\n",
      "      dtype='object')\n"
     ]
    }
   ],
   "source": [
    "import pandas as pd\n",
    "\n",
    "df = pd.read_csv(r'C:\\Users\\saite\\OneDrive\\Desktop\\restaurants.csv.csv')\n",
    "\n",
    "print(df.columns)\n"
   ]
  },
  {
   "cell_type": "code",
   "execution_count": 5,
   "metadata": {},
   "outputs": [
    {
     "name": "stdout",
     "output_type": "stream",
     "text": [
      "Index(['Restaurant ID', 'Restaurant Name', 'Country Code', 'City', 'Address',\n",
      "       'Locality', 'Locality Verbose', 'Longitude', 'Latitude', 'Cuisines',\n",
      "       'Average Cost for two', 'Currency', 'Has Table booking',\n",
      "       'Has Online delivery', 'Is delivering now', 'Switch to order menu',\n",
      "       'Price range', 'Aggregate rating', 'Rating color', 'Rating text',\n",
      "       'Votes'],\n",
      "      dtype='object')\n",
      "Percentage of restaurants offering both table booking and online delivery: 4.55%\n"
     ]
    }
   ],
   "source": [
    "import pandas as pd\n",
    "\n",
    "# Load the data into a DataFrame\n",
    "df = pd.read_csv(r'C:\\Users\\saite\\OneDrive\\Desktop\\restaurants.csv.csv')\n",
    "\n",
    "# Print the column names for debugging\n",
    "print(df.columns)\n",
    "\n",
    "# Filter data for restaurants offring online delivery\n",
    "both_services = df[(df['Has Table booking'] == 'Yes') & (df['Has Online delivery'] == 'Yes')]\n",
    "\n",
    "total_restaurants = len(df)\n",
    "both_services_restaurants = len(both_services)\n",
    "percentage = (both_services_restaurants / total_restaurants) * 100\n",
    "\n",
    "print(f\"Percentage of restaurants offering both table booking and online delivery: {percentage:.2f}%\")\n"
   ]
  },
  {
   "cell_type": "code",
   "execution_count": 6,
   "metadata": {},
   "outputs": [
    {
     "name": "stdout",
     "output_type": "stream",
     "text": [
      "Average rating for each price range:\n",
      "Price range\n",
      "1    1.999887\n",
      "2    2.941054\n",
      "3    3.683381\n",
      "4    3.817918\n",
      "Name: Aggregate rating, dtype: float64\n",
      "\n",
      "The highest average rating is 3.82 for the price range 4.\n",
      "The color representing the highest average rating is Yellow.\n"
     ]
    }
   ],
   "source": [
    "import pandas as pd\n",
    "\n",
    "# Load the data into a DataFrame\n",
    "df = pd.read_csv(r'C:\\Users\\saite\\OneDrive\\Desktop\\restaurants.csv.csv')\n",
    "\n",
    "# Group by price range and calculate the average rating\n",
    "average_rating_by_price_range = df.groupby('Price range')['Aggregate rating'].mean()\n",
    "\n",
    "# Find the price range with the highest average rating\n",
    "highest_avg_rating_price_range = average_rating_by_price_range.idxmax()\n",
    "highest_avg_rating = average_rating_by_price_range.max()\n",
    "\n",
    "# Get the color associated with the highest average rating price range\n",
    "highest_rating_color = df[df['Price range'] == highest_avg_rating_price_range]['Rating color'].mode()[0]\n",
    "\n",
    "print(f\"Average rating for each price range:\\n{average_rating_by_price_range}\")\n",
    "print(f\"\\nThe highest average rating is {highest_avg_rating:.2f} for the price range {highest_avg_rating_price_range}.\")\n",
    "print(f\"The color representing the highest average rating is {highest_rating_color}.\")\n"
   ]
  }
 ],
 "metadata": {
  "kernelspec": {
   "display_name": "Python 3",
   "language": "python",
   "name": "python3"
  },
  "language_info": {
   "codemirror_mode": {
    "name": "ipython",
    "version": 3
   },
   "file_extension": ".py",
   "mimetype": "text/x-python",
   "name": "python",
   "nbconvert_exporter": "python",
   "pygments_lexer": "ipython3",
   "version": "3.11.4"
  }
 },
 "nbformat": 4,
 "nbformat_minor": 2
}
