{
 "cells": [
  {
   "cell_type": "code",
   "execution_count": 1,
   "metadata": {},
   "outputs": [
    {
     "name": "stdout",
     "output_type": "stream",
     "text": [
      "The most common price range among all the restaurants is: 1\n"
     ]
    }
   ],
   "source": [
    "import pandas as pd\n",
    "\n",
    "df = pd.read_csv(r'C:\\Users\\saite\\OneDrive\\Desktop\\restaurants.csv.csv')\n",
    "\n",
    "#common price among all restarurents\n",
    "most_common_price_range = df['Price range'].mode()[0]\n",
    "\n",
    "print(f\"The most common price range among all the restaurants is: {most_common_price_range}\")\n"
   ]
  },
  {
   "cell_type": "code",
   "execution_count": null,
   "metadata": {},
   "outputs": [
    {
     "name": "stdout",
     "output_type": "stream",
     "text": [
      "Average rating for each price range:\n",
      "Price range\n",
      "1    1.999887\n",
      "2    2.941054\n",
      "3    3.683381\n",
      "4    3.817918\n",
      "Name: Aggregate rating, dtype: float64\n",
      "\n",
      "The highest average rating is 3.82 for the price range 4.\n",
      "The color representing the highest average rating is Yellow.\n"
     ]
    }
   ],
   "source": [
    "import pandas as pd\n",
    "\n",
    "#average rating for each price range\n",
    "df = pd.read_csv(r'C:\\Users\\saite\\OneDrive\\Desktop\\restaurants.csv.csv')\n",
    "\n",
    "average_rating_by_price_range = df.groupby('Price range')['Aggregate rating'].mean()\n",
    "\n",
    "highest_avg_rating_price_range = average_rating_by_price_range.idxmax()\n",
    "highest_avg_rating = average_rating_by_price_range.max()\n",
    "\n",
    "highest_rating_color = df[df['Price range'] == highest_avg_rating_price_range]['Rating color'].mode()[0]\n",
    "\n",
    "print(f\"Average rating for each price range:\\n{average_rating_by_price_range}\")\n",
    "print(f\"\\nThe highest average rating is {highest_avg_rating:.2f} for the price range {highest_avg_rating_price_range}.\")\n",
    "print(f\"The color representing the highest average rating is {highest_rating_color}.\")\n"
   ]
  }
 ],
 "metadata": {
  "kernelspec": {
   "display_name": "Python 3",
   "language": "python",
   "name": "python3"
  },
  "language_info": {
   "codemirror_mode": {
    "name": "ipython",
    "version": 3
   },
   "file_extension": ".py",
   "mimetype": "text/x-python",
   "name": "python",
   "nbconvert_exporter": "python",
   "pygments_lexer": "ipython3",
   "version": "3.11.4"
  }
 },
 "nbformat": 4,
 "nbformat_minor": 2
}
